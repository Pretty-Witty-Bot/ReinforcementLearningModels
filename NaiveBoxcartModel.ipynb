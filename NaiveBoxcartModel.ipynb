{
  "nbformat": 4,
  "nbformat_minor": 0,
  "metadata": {
    "colab": {
      "name": "NaiveBoxcartModel.ipynb",
      "provenance": [],
      "collapsed_sections": [],
      "authorship_tag": "ABX9TyOhtvB0JFAAxpRfZQhG6moD",
      "include_colab_link": true
    },
    "kernelspec": {
      "name": "python3",
      "display_name": "Python 3"
    },
    "language_info": {
      "name": "python"
    }
  },
  "cells": [
    {
      "cell_type": "markdown",
      "metadata": {
        "id": "view-in-github",
        "colab_type": "text"
      },
      "source": [
        "<a href=\"https://colab.research.google.com/github/Pretty-Witty-Bot/ReinforcementLearningModels/blob/main/NaiveBoxcartModel.ipynb\" target=\"_parent\"><img src=\"https://colab.research.google.com/assets/colab-badge.svg\" alt=\"Open In Colab\"/></a>"
      ]
    },
    {
      "cell_type": "code",
      "execution_count": null,
      "metadata": {
        "id": "Fp6bEC0-684z"
      },
      "outputs": [],
      "source": [
        "\"\"\"\n",
        "Install the necessary libraries and modules.\n",
        "\"\"\"\n",
        "\n",
        "!pip install gym\n",
        "!pip install gym[classic_control]"
      ]
    },
    {
      "cell_type": "code",
      "source": [
        "\"\"\"\n",
        "Import the necessary libraries and modules.\n",
        "\"\"\"\n",
        "\n",
        "import gym\n",
        "from gym.wrappers import RecordVideo"
      ],
      "metadata": {
        "id": "FP0v31MM7rgf"
      },
      "execution_count": 2,
      "outputs": []
    },
    {
      "cell_type": "code",
      "source": [
        "\"\"\"\n",
        "Initialize the environment and the video recorder.\n",
        "\"\"\"\n",
        "\n",
        "env = gym.make('MountainCar-v0', render_mode = 'rgb_array')\n",
        "# Store videos in ./naive_video directory.\n",
        "video_recorder = RecordVideo(env, './naive_video') "
      ],
      "metadata": {
        "id": "ALb9NkqX8HfJ"
      },
      "execution_count": null,
      "outputs": []
    },
    {
      "cell_type": "code",
      "source": [
        "\"\"\"\n",
        "Figure out the dimensions that we are working with.\n",
        "\"\"\"\n",
        "\n",
        "obs_space = env.observation_space\n",
        "action_space = env.action_space\n",
        "\n",
        "print(\"The observation space: {}\".format(obs_space))\n",
        "print(\"The action space: {}\".format(action_space))"
      ],
      "metadata": {
        "id": "wB1ayxcGM33o"
      },
      "execution_count": null,
      "outputs": []
    },
    {
      "cell_type": "code",
      "source": [
        "\"\"\"\n",
        "Run and record the simulation.\n",
        "\"\"\"\n",
        "\n",
        "env.reset()\n",
        "video_recorder.start_video_recorder()\n",
        "\n",
        "STEPS = 1000\n",
        "for _ in range(STEPS):  \n",
        "\n",
        "  video_recorder.reset() # reset the environment and see the initial observation    \n",
        "\n",
        "  # Sample a random action from the entire action space\n",
        "  random_action = env.action_space.sample()\n",
        "\n",
        "  # # Take the action and get the new observation space.\n",
        "  new_obs, reward, done, info = env.step(random_action)\n",
        "\n",
        "  video_recorder.render() # Renders and records the environment.\n",
        "\n",
        "\n",
        "video_recorder.close_video_recorder()\n",
        "env.close()"
      ],
      "metadata": {
        "id": "iZ7P5Wz-89Np"
      },
      "execution_count": 5,
      "outputs": []
    }
  ]
}